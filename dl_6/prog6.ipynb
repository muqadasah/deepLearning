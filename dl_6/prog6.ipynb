{
 "cells": [
  {
   "cell_type": "markdown",
   "id": "88c62a0f",
   "metadata": {},
   "source": [
    "# Implement a simple CNN and understand its applications in image recognition (MNIST dataset)\n"
   ]
  },
  {
   "cell_type": "code",
   "execution_count": 1,
   "id": "d17b2064",
   "metadata": {},
   "outputs": [
    {
     "name": "stdout",
     "output_type": "stream",
     "text": [
      "WARNING:tensorflow:From c:\\Users\\muqadasah\\AppData\\Local\\Programs\\Python\\Python310\\lib\\site-packages\\keras\\src\\losses.py:2976: The name tf.losses.sparse_softmax_cross_entropy is deprecated. Please use tf.compat.v1.losses.sparse_softmax_cross_entropy instead.\n",
      "\n",
      "WARNING:tensorflow:From c:\\Users\\muqadasah\\AppData\\Local\\Programs\\Python\\Python310\\lib\\site-packages\\keras\\src\\backend.py:873: The name tf.get_default_graph is deprecated. Please use tf.compat.v1.get_default_graph instead.\n",
      "\n",
      "WARNING:tensorflow:From c:\\Users\\muqadasah\\AppData\\Local\\Programs\\Python\\Python310\\lib\\site-packages\\keras\\src\\layers\\pooling\\max_pooling2d.py:161: The name tf.nn.max_pool is deprecated. Please use tf.nn.max_pool2d instead.\n",
      "\n",
      "WARNING:tensorflow:From c:\\Users\\muqadasah\\AppData\\Local\\Programs\\Python\\Python310\\lib\\site-packages\\keras\\src\\optimizers\\__init__.py:309: The name tf.train.Optimizer is deprecated. Please use tf.compat.v1.train.Optimizer instead.\n",
      "\n",
      "Epoch 1/5\n",
      "WARNING:tensorflow:From c:\\Users\\muqadasah\\AppData\\Local\\Programs\\Python\\Python310\\lib\\site-packages\\keras\\src\\utils\\tf_utils.py:492: The name tf.ragged.RaggedTensorValue is deprecated. Please use tf.compat.v1.ragged.RaggedTensorValue instead.\n",
      "\n",
      "WARNING:tensorflow:From c:\\Users\\muqadasah\\AppData\\Local\\Programs\\Python\\Python310\\lib\\site-packages\\keras\\src\\engine\\base_layer_utils.py:384: The name tf.executing_eagerly_outside_functions is deprecated. Please use tf.compat.v1.executing_eagerly_outside_functions instead.\n",
      "\n",
      "1500/1500 [==============================] - 15s 9ms/step - loss: 0.1605 - accuracy: 0.9510 - val_loss: 0.0738 - val_accuracy: 0.9794\n",
      "Epoch 2/5\n",
      "1500/1500 [==============================] - 13s 9ms/step - loss: 0.0518 - accuracy: 0.9840 - val_loss: 0.0500 - val_accuracy: 0.9858\n",
      "Epoch 3/5\n",
      "1500/1500 [==============================] - 14s 10ms/step - loss: 0.0363 - accuracy: 0.9885 - val_loss: 0.0504 - val_accuracy: 0.9863\n",
      "Epoch 4/5\n",
      "1500/1500 [==============================] - 20s 13ms/step - loss: 0.0257 - accuracy: 0.9916 - val_loss: 0.0419 - val_accuracy: 0.9887\n",
      "Epoch 5/5\n",
      "1500/1500 [==============================] - 15s 10ms/step - loss: 0.0196 - accuracy: 0.9933 - val_loss: 0.0397 - val_accuracy: 0.9893\n",
      "313/313 [==============================] - 2s 4ms/step - loss: 0.0321 - accuracy: 0.9904\n",
      "Test Accuracy: 0.9904\n",
      "1/1 [==============================] - 0s 182ms/step\n"
     ]
    },
    {
     "data": {
      "image/png": "[encoded data removed]",
      "text/plain": [
       "<Figure size 1200x600 with 6 Axes>"
      ]
     },
     "metadata": {},
     "output_type": "display_data"
    }
   ],
   "source": [
    "import numpy as np\n",
    "import tensorflow as tf\n",
    "from tensorflow import keras\n",
    "from tensorflow.keras import layers\n",
    "import matplotlib.pyplot as plt\n",
    "\n",
    "# Load MNIST dataset from the internet\n",
    "(X_train, y_train), (X_test, y_test) = keras.datasets.mnist.load_data()\n",
    "\n",
    "# Normalize pixel values\n",
    "X_train = X_train / 255.0\n",
    "X_test = X_test / 255.0\n",
    "\n",
    "# Reshape to fit CNN input [samples, height, width, channels]\n",
    "X_train = X_train.reshape(-1, 28, 28, 1)\n",
    "X_test = X_test.reshape(-1, 28, 28, 1)\n",
    "\n",
    "# One-hot encode labels\n",
    "y_train = keras.utils.to_categorical(y_train, 10)\n",
    "y_test = keras.utils.to_categorical(y_test, 10)\n",
    "\n",
    "# Build CNN model\n",
    "model = keras.Sequential([\n",
    "    layers.Conv2D(32, (3, 3), activation='relu', input_shape=(28, 28, 1)),\n",
    "    layers.MaxPooling2D((2, 2)),\n",
    "    layers.Conv2D(64, (3, 3), activation='relu'),\n",
    "    layers.MaxPooling2D((2, 2)),\n",
    "    layers.Flatten(),\n",
    "    layers.Dense(64, activation='relu'),\n",
    "    layers.Dense(10, activation='softmax')\n",
    "])\n",
    "\n",
    "# Compile the model\n",
    "model.compile(optimizer='adam',\n",
    "              loss='categorical_crossentropy',\n",
    "              metrics=['accuracy'])\n",
    "\n",
    "# Train the model\n",
    "model.fit(X_train, y_train, epochs=5, batch_size=32, validation_split=0.2)\n",
    "\n",
    "# Evaluate performance\n",
    "test_loss, test_acc = model.evaluate(X_test, y_test)\n",
    "print(f\"Test Accuracy: {test_acc:.4f}\")\n",
    "\n",
    "# Visualize learned filters (activations of first Conv2D layer)\n",
    "layer_outputs = [layer.output for layer in model.layers if isinstance(layer, layers.Conv2D)]\n",
    "# activation_model = keras.Model(inputs=model.input, outputs=layer_outputs)\n",
    "activation_model = keras.Model(inputs=model.layers[0].input, outputs=layer_outputs)\n",
    "\n",
    "\n",
    "# Select a test image\n",
    "img = X_test[0].reshape(1, 28, 28, 1)\n",
    "activations = activation_model.predict(img)\n",
    "\n",
    "# Plot first convolutional layer activations\n",
    "first_layer_activation = activations[0][0]  # shape: (height, width, filters)\n",
    "\n",
    "fig, axes = plt.subplots(1, min(6, first_layer_activation.shape[-1]), figsize=(12, 6))\n",
    "for i in range(len(axes)):\n",
    "    axes[i].imshow(first_layer_activation[:, :, i], cmap='viridis')\n",
    "    axes[i].axis('off')\n",
    "plt.suptitle(\"Feature Maps from First Convolutional Layer\")\n",
    "plt.show()\n"
   ]
  }
 ],
 "metadata": {
  "kernelspec": {
   "display_name": "Python 3",
   "language": "python",
   "name": "python3"
  },
  "language_info": {
   "codemirror_mode": {
    "name": "ipython",
    "version": 3
   },
   "file_extension": ".py",
   "mimetype": "text/x-python",
   "name": "python",
   "nbconvert_exporter": "python",
   "pygments_lexer": "ipython3",
   "version": "3.10.10"
  }
 },
 "nbformat": 4,
 "nbformat_minor": 5
}
