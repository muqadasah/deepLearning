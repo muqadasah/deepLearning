{
  "cells": [
    {
      "cell_type": "markdown",
      "metadata": {
        "id": "jffPmKZhbaO6"
      },
      "source": [
        "# PROGRAM 4 : Understand the impact of different optimizers on the training process.\n",
        "# Implement various optimizers (e.g., SGD, Adam, RMSprop).\n",
        "# Train a neural network on the CIFAR-10 dataset using each optimizer.\n",
        "# Compare the convergence speed and final accuracy of each optimizer."
      ]
    },
    {
      "cell_type": "code",
      "execution_count": null,
      "metadata": {
        "id": "eoItaBvNmSwR"
      },
      "outputs": [],
      "source": [
        "import tensorflow as tf\n",
        "from tensorflow.keras.models import Sequential\n",
        "from tensorflow.keras.layers import Dense, Conv2D, Flatten, MaxPooling2D\n",
        "from tensorflow.keras.optimizers import SGD, Adam, RMSprop\n",
        "import matplotlib.pyplot as plt\n",
        "import pandas as pd\n",
        "import numpy as np\n",
        "from sklearn.model_selection import train_test_split\n",
        "\n",
        "# Load the CIFAR-10 CSV dataset\n",
        "def load_cifar10_csv(filepath):\n",
        "    df = pd.read_csv(filepath)\n",
        "    labels = df['label'].values\n",
        "    images = df.drop('label', axis=1).values.reshape(-1, 32, 32, 3) / 255.0\n",
        "    return images, labels\n",
        "\n",
        "# Load training and test data from csv files\n",
        "X, y = load_cifar10_csv('cifar10.csv') \n",
        "\n",
        "# Convert labels to categorical\n",
        "y = tf.keras.utils.to_categorical(y, 10)\n",
        "\n",
        "# Split data into training and validation sets.\n",
        "X_train, X_test, y_train, y_test = train_test_split(X, y, test_size=0.2, random_state=42)\n",
        "\n",
        "def build_and_train_model(optimizer, epochs=10):\n",
        "    model = Sequential()\n",
        "    model.add(Conv2D(32, kernel_size=(3, 3), activation='relu', input_shape=(32, 32, 3)))\n",
        "    model.add(MaxPooling2D(pool_size=(2, 2)))\n",
        "    model.add(Flatten())\n",
        "    model.add(Dense(128, activation='relu'))\n",
        "    model.add(Dense(10, activation='softmax'))\n",
        "\n",
        "    model.compile(optimizer=optimizer, loss='categorical_crossentropy', metrics=['accuracy'])\n",
        "    history = model.fit(X_train, y_train, epochs=epochs, batch_size=32, verbose=1, validation_data=(X_test, y_test))\n",
        "    return history\n",
        "\n",
        "optimizers = {'SGD': SGD(), 'Adam': Adam(), 'RMSprop': RMSprop()}\n",
        "histories = {name: build_and_train_model(optimizer) for name, optimizer in optimizers.items()}\n",
        "\n",
        "# Visualize training performance\n",
        "plt.figure(figsize=(12, 8))\n",
        "for name in optimizers.keys():\n",
        "    plt.plot(histories[name].history['accuracy'], label=f'{name} train')\n",
        "    plt.plot(histories[name].history['val_accuracy'], label=f'{name} val')\n",
        "plt.xlabel('Epoch')\n",
        "plt.ylabel('Accuracy')\n",
        "plt.legend()\n",
        "plt.title('Training and Validation Accuracy for Different Optimizers (TensorFlow/Keras)')\n",
        "plt.show()\n",
        "\n",
        "# Print final accuracy\n",
        "for name, history in histories.items():\n",
        "    final_train_acc = history.history['accuracy'][-1]\n",
        "    final_val_acc = history.history['val_accuracy'][-1]\n",
        "    print(f\"{name} - Train Accuracy: {final_train_acc:.4f}, Validation Accuracy: {final_val_acc:.4f}\")"
      ]
    }
  ],
  "metadata": {
    "colab": {
      "provenance": []
    },
    "kernelspec": {
      "display_name": "Python 3",
      "name": "python3"
    },
    "language_info": {
      "name": "python"
    }
  },
  "nbformat": 4,
  "nbformat_minor": 0
}
