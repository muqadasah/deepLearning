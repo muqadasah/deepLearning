{
  "nbformat": 4,
  "nbformat_minor": 0,
  "metadata": {
    "colab": {
      "provenance": []
    },
    "kernelspec": {
      "name": "python3",
      "display_name": "Python 3"
    },
    "language_info": {
      "name": "python"
    }
  },
  "cells": [
    {
      "cell_type": "markdown",
      "source": [
        "Program2: Create a simple feedforward neural network using TensorFlow/Keras or PyTorch.\n",
        "Train the network on the MNIST dataset.\n",
        "Evaluate the model's accuracy and visualize some predictions."
      ],
      "metadata": {
        "id": "QRi2tNFEaxDX"
      }
    },
    {
      "cell_type": "code",
      "execution_count": null,
      "metadata": {
        "id": "BeCjQeaIai29"
      },
      "outputs": [],
      "source": [
        "import tensorflow as tf\n",
        "import pandas as pd\n",
        "import numpy as np\n",
        "import matplotlib.pyplot as plt\n",
        "from sklearn.model_selection import train_test_split\n",
        "from sklearn.preprocessing import StandardScaler\n",
        "\n",
        "# Load dataset from CSV\n",
        "data = pd.read_csv('data.csv')\n",
        "\n",
        "# Split features and labels (assuming the last column is the label)\n",
        "X = data.iloc[:, :-1].values\n",
        "y = data.iloc[:, -1].values\n",
        "\n",
        "# One-hot encode the labels (if it's a classification task with multiple classes)\n",
        "y = tf.keras.utils.to_categorical(y)\n",
        "\n",
        "# Split into training and test sets\n",
        "X_train, X_test, y_train, y_test = train_test_split(X, y, test_size=0.2, random_state=42)\n",
        "\n",
        "# Standardize features\n",
        "scaler = StandardScaler()\n",
        "X_train = scaler.fit_transform(X_train)\n",
        "X_test = scaler.transform(X_test)\n",
        "\n",
        "# Define the feedforward neural network model\n",
        "model = tf.keras.Sequential([\n",
        "    tf.keras.layers.Dense(128, activation='relu', input_shape=(X_train.shape[1],)),\n",
        "    tf.keras.layers.Dense(64, activation='relu'),\n",
        "    tf.keras.layers.Dense(y.shape[1], activation='softmax')  # Output layer\n",
        "])\n",
        "\n",
        "# Compile the model\n",
        "model.compile(optimizer='adam', loss='categorical_crossentropy', metrics=['accuracy'])\n",
        "\n",
        "# Train the model\n",
        "history = model.fit(X_train, y_train, epochs=50, batch_size=32, validation_split=0.2, verbose=1)\n",
        "\n",
        "# Evaluate the model\n",
        "loss, accuracy = model.evaluate(X_test, y_test)\n",
        "print(f\"Test Loss: {loss:.4f}, Test Accuracy: {accuracy:.4f}\")\n",
        "\n",
        "# Visualize training history\n",
        "plt.plot(history.history['accuracy'], label='Train Accuracy')\n",
        "plt.plot(history.history['val_accuracy'], label='Validation Accuracy')\n",
        "plt.xlabel('Epochs')\n",
        "plt.ylabel('Accuracy')\n",
        "plt.title('Model Accuracy')\n",
        "plt.legend()\n",
        "plt.show()\n",
        "\n",
        "# Visualize predictions\n",
        "def visualize_predictions(model, X, y_true, num_samples=5):\n",
        "    predictions = model.predict(X)\n",
        "    y_pred = np.argmax(predictions, axis=1)\n",
        "    y_true = np.argmax(y_true, axis=1)\n",
        "\n",
        "    for i in range(num_samples):\n",
        "        print(f\"Sample {i+1}\")\n",
        "        print(f\"True Label: {y_true[i]}, Predicted Label: {y_pred[i]}\")\n",
        "        print()\n",
        "\n",
        "visualize_predictions(model, X_test[:5], y_test[:5])\n"
      ]
    }
  ]
}